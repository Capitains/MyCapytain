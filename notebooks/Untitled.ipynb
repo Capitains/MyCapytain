{
 "cells": [
  {
   "cell_type": "code",
   "execution_count": 1,
   "metadata": {},
   "outputs": [],
   "source": [
    "# Just importing the parent module, do not change this if you execute the code\n",
    "# from the git repository\n",
    "import os\n",
    "import sys\n",
    "nb_dir = os.path.split(os.getcwd())[0]\n",
    "if nb_dir not in sys.path:\n",
    "    sys.path.append(nb_dir)"
   ]
  },
  {
   "cell_type": "code",
   "execution_count": 3,
   "metadata": {
    "scrolled": false
   },
   "outputs": [
    {
     "name": "stdout",
     "output_type": "stream",
     "text": [
      "<class 'MyCapytain.resources.collections.capitains.XmlCapitainsCollectionMetadata'>\n",
      "975 ns ± 68.9 ns per loop (mean ± std. dev. of 7 runs, 1000000 loops each)\n",
      "88.2 µs ± 5.62 µs per loop (mean ± std. dev. of 7 runs, 10000 loops each)\n"
     ]
    }
   ],
   "source": [
    "from MyCapytain.resolvers.capitains.local import XmlCapitainsLocalResolver\n",
    "from MyCapytain.common.constants import RDF_NAMESPACES, Mimetypes, XPATH_NAMESPACES\n",
    "repo = XmlCapitainsLocalResolver(['../tests/testing_data/guidelines_v3'])\n",
    "print(type(repo.inventory))"
   ]
  },
  {
   "cell_type": "code",
   "execution_count": 3,
   "metadata": {},
   "outputs": [],
   "source": [
    "from MyCapytain.resources.collections.capitains import XmlCapitainsCollectionMetadata, XmlCapitainsReadableMetadata\n",
    "from collections import defaultdict\n",
    "from glob import glob\n",
    "import os.path\n",
    "collections = defaultdict(set)\n",
    "children = defaultdict()\n",
    "c = XmlCapitainsCollectionMetadata\n",
    "r = XmlCapitainsReadableMetadata\n",
    "for file in glob('../tests/testing_data/guidelines_v3/data/**/__capitains__.xml'):\n",
    "    with open(file) as f: \n",
    "        coll, children = c.parse(f, _with_children=True)\n",
    "    coll.path = os.path.normpath(file)\n",
    "    for child in children:\n",
    "        collections[coll.id].add(os.path.normpath(os.path.join(os.path.dirname(coll.path), child.path)))"
   ]
  },
  {
   "cell_type": "code",
   "execution_count": 4,
   "metadata": {},
   "outputs": [
    {
     "name": "stdout",
     "output_type": "stream",
     "text": [
      "[XmlCapitainsCollectionMetadata(a:different.identifier)#139654978676384]\n",
      "{'urn:cts:formulae:passau.heuwieser0073': XmlCapitainsCollectionMetadata(urn:cts:formulae:passau.heuwieser0073)#139654978974440, 'urn:cts:formulae:passau.heuwieser0083': XmlCapitainsCollectionMetadata(urn:cts:formulae:passau.heuwieser0083)#139654978974552}\n"
     ]
    }
   ],
   "source": [
    "with open('/home/matt/MyCapytain/tests/testing_data/guidelines_v3/data/collected/__capitains__.xml') as f:\n",
    "    coll1, children = c.parse(f, _with_children=True)\n",
    "print(children[0].parents)\n",
    "print(repo.getMetadata('urn:cts:formulae:passau').children)"
   ]
  },
  {
   "cell_type": "code",
   "execution_count": 5,
   "metadata": {},
   "outputs": [
    {
     "name": "stdout",
     "output_type": "stream",
     "text": [
      "\t XmlCapitainsCollectionMetadata(default)#139655225522328 None\n",
      "\t XmlCapitainsCollectionMetadata(urn:cts:formulae:elexicon)#139654986982456 ../tests/testing_data/guidelines_v3/data/elexicon/__capitains__.xml\n",
      "\t XmlCapitainsCollectionMetadata(urn:cts:formulae:passau)#139654978676944 ../tests/testing_data/guidelines_v3/data/passau/__capitains__.xml\n",
      "\t XmlCapitainsCollectionMetadata(urn:cts:formulae:salzburg)#139654978975560 ../tests/testing_data/guidelines_v3/data/salzburg/__capitains__.xml\n",
      "\t XmlCapitainsCollectionMetadata(urn:cts:formulae:fulda_dronke)#139654978976344 ../tests/testing_data/guidelines_v3/data/fulda_dronke/__capitains__.xml\n",
      "\t XmlCapitainsCollectionMetadata(a:different.identifier)#139654978559112 ../tests/testing_data/guidelines_v3/data/collected/__capitains__.xml\n",
      "\t XmlCapitainsCollectionMetadata(urn:cts:formulae:elexicon.abbas)#139654978858736 ../tests/testing_data/guidelines_v3/data/elexicon/abbas/__capitains__.xml\n",
      "\t XmlCapitainsReadableMetadata(urn:cts:formulae:elexicon.abbas.deu001)#139654978858456 ../tests/testing_data/guidelines_v3/data/elexicon/abbas/elexicon.abbas.deu001.xml\n",
      "\t XmlCapitainsCollectionMetadata(urn:cts:formulae:passau.heuwieser0073)#139654978974440 ../tests/testing_data/guidelines_v3/data/passau/heuwieser0073/__capitains__.xml\n",
      "\t XmlCapitainsCollectionMetadata(urn:cts:formulae:passau.heuwieser0083)#139654978974552 ../tests/testing_data/guidelines_v3/data/passau/heuwieser0083/__capitains__.xml\n",
      "\t XmlCapitainsReadableMetadata(urn:cts:formulae:passau.heuwieser0073.lat002)#139654978974272 ../tests/testing_data/guidelines_v3/data/passau/heuwieser0073/passau.heuwieser0073.lat002.xml\n",
      "\t XmlCapitainsReadableMetadata(urn:cts:formulae:passau.heuwieser0073.lat004)#139654978974832 ../tests/testing_data/guidelines_v3/data/passau/heuwieser0073/passau.heuwieser0073.lat004.xml\n",
      "\t XmlCapitainsReadableMetadata(urn:cts:formulae:passau.heuwieser0073.lat003)#139654978975112 ../tests/testing_data/guidelines_v3/data/passau/heuwieser0073/passau.heuwieser0073.lat003.xml\n",
      "\t XmlCapitainsReadableMetadata(urn:cts:formulae:passau.heuwieser0073.lat001)#139654978975224 ../tests/testing_data/guidelines_v3/data/passau/heuwieser0073/passau.heuwieser0073.lat001.xml\n",
      "\t XmlCapitainsReadableMetadata(urn:cts:formulae:passau.heuwieser0073.lat005)#139654978975336 ../tests/testing_data/guidelines_v3/data/passau/heuwieser0073/passau.heuwieser0073.lat005.xml\n",
      "\t XmlCapitainsReadableMetadata(urn:cts:formulae:passau.heuwieser0083.lat001)#139654978975448 ../tests/testing_data/guidelines_v3/data/passau/heuwieser0083/passau.heuwieser0083.lat001.xml\n",
      "\t XmlCapitainsReadableMetadata(urn:cts:formulae:passau.heuwieser0083.lat002)#139654978975728 ../tests/testing_data/guidelines_v3/data/passau/heuwieser0083/passau.heuwieser0083.lat002.xml\n",
      "\t XmlCapitainsCollectionMetadata(urn:cts:formulae:salzburg.hauthaler-a0100)#139654978976232 ../tests/testing_data/guidelines_v3/data/salzburg/hauthaler-a0100/__capitains__.xml\n",
      "\t XmlCapitainsReadableMetadata(urn:cts:formulae:salzburg.hauthaler-a0100.lat001)#139654978975616 ../tests/testing_data/guidelines_v3/data/salzburg/hauthaler-a0100/salzburg.hauthaler-a0100.lat001.xml\n",
      "\t XmlCapitainsCollectionMetadata(urn:cts:formulae:fulda_dronke.dronke0004a)#139654978556592 ../tests/testing_data/guidelines_v3/data/fulda_dronke/dronke0004a/__capitains__.xml\n",
      "\t XmlCapitainsCollectionMetadata(urn:cts:formulae:fulda_dronke.dronke0041)#139654978557768 ../tests/testing_data/guidelines_v3/data/fulda_dronke/dronke0041/__capitains__.xml\n",
      "\t XmlCapitainsCollectionMetadata(urn:cts:formulae:fulda_dronke.dronke0064)#139654978558776 ../tests/testing_data/guidelines_v3/data/fulda_dronke/dronke0064/__capitains__.xml\n",
      "\t XmlCapitainsCollectionMetadata(urn:cts:formulae:fulda_dronke.dronke0124)#139654978558104 ../tests/testing_data/guidelines_v3/data/fulda_dronke/dronke0124/__capitains__.xml\n",
      "\t XmlCapitainsCollectionMetadata(urn:cts:formulae:fulda_dronke.dronke0126)#139654978556984 ../tests/testing_data/guidelines_v3/data/fulda_dronke/dronke0126/__capitains__.xml\n",
      "\t XmlCapitainsCollectionMetadata(urn:cts:formulae:fulda_dronke.dronke0192)#139654978557432 ../tests/testing_data/guidelines_v3/data/fulda_dronke/dronke0192/__capitains__.xml\n",
      "\t XmlCapitainsCollectionMetadata(urn:cts:formulae:fulda_dronke.dronke0323)#139654978558440 ../tests/testing_data/guidelines_v3/data/fulda_dronke/dronke0323/__capitains__.xml\n",
      "\t XmlCapitainsCollectionMetadata(urn:cts:formulae:fulda_dronke.dronke0616)#139654978976456 ../tests/testing_data/guidelines_v3/data/fulda_dronke/dronke0616/__capitains__.xml\n",
      "\t XmlCapitainsReadableMetadata(urn:cts:formulae:fulda_dronke.dronke0004a.lat001)#139654978556872 ../tests/testing_data/guidelines_v3/data/fulda_dronke/dronke0004a/fulda_dronke.dronke0004a.lat001.xml\n",
      "\t XmlCapitainsReadableMetadata(urn:cts:formulae:fulda_dronke.dronke0041.lat001)#139654978557544 ../tests/testing_data/guidelines_v3/data/fulda_dronke/dronke0041/fulda_dronke.dronke0041.lat001.xml\n",
      "\t XmlCapitainsReadableMetadata(urn:cts:formulae:fulda_dronke.dronke0064.lat001)#139654978558552 ../tests/testing_data/guidelines_v3/data/fulda_dronke/dronke0064/fulda_dronke.dronke0064.lat001.xml\n",
      "\t XmlCapitainsReadableMetadata(urn:cts:formulae:fulda_dronke.dronke0124.lat001)#139654978557880 ../tests/testing_data/guidelines_v3/data/fulda_dronke/dronke0124/fulda_dronke.dronke0124.lat001.xml\n",
      "\t XmlCapitainsReadableMetadata(urn:cts:formulae:fulda_dronke.dronke0126.lat001)#139654978556648 ../tests/testing_data/guidelines_v3/data/fulda_dronke/dronke0126/fulda_dronke.dronke0126.lat001.xml\n",
      "\t XmlCapitainsReadableMetadata(urn:cts:formulae:fulda_dronke.dronke0192.lat001)#139654978557208 ../tests/testing_data/guidelines_v3/data/fulda_dronke/dronke0192/fulda_dronke.dronke0192.lat001.xml\n",
      "\t XmlCapitainsReadableMetadata(urn:cts:formulae:fulda_dronke.dronke0323.lat001)#139654978558216 ../tests/testing_data/guidelines_v3/data/fulda_dronke/dronke0323/fulda_dronke.dronke0323.lat001.xml\n",
      "\t XmlCapitainsReadableMetadata(urn:cts:formulae:fulda_dronke.dronke0616.lat001)#139654978556256 ../tests/testing_data/guidelines_v3/data/fulda_dronke/dronke0616/fulda_dronke.dronke0616.lat001.xml\n",
      "\t XmlCapitainsReadableMetadata(urn:cts:formulae:passau.heuwieser0073.lat001_as_com)#139654978559336 ../tests/testing_data/guidelines_v3/data/passau/heuwieser0073/passau.heuwieser0073.lat001.xml\n",
      "\t XmlCapitainsReadableMetadata(urn:cts:formulae:passau.heuwieser0073.lat005_as_trans)#139654978559392 ../tests/testing_data/guidelines_v3/data/passau/heuwieser0073/passau.heuwieser0073.lat005.xml\n"
     ]
    }
   ],
   "source": [
    "for d in repo.inventory.descendants:\n",
    "    print('\\t', d, d.path)"
   ]
  },
  {
   "cell_type": "code",
   "execution_count": 6,
   "metadata": {},
   "outputs": [
    {
     "name": "stdout",
     "output_type": "stream",
     "text": [
      "http://purl.org/dc/elements/1.1/title Salzburger Urkundenbuch (Ed. Hauthaler); Codex A Nummer 100\n",
      "http://purl.org/dc/terms/abstract \n",
      "http://purl.org/dc/elements/1.1/format application/tei+xml\n",
      "http://purl.org/capitains/ns/1.0#parent urn:cts:formulae:salzburg.hauthaler-a0100\n",
      "http://purl.org/dc/elements/1.1/description a) Der Edle Vodalhard (Odalhard) übergibt dem Erzbischof 7 Huben am Ergoltsbach (Zufluss der kleinen Laber n. Landshut) mit Vorbehalt von 3 Joch in jeder Zelch und einer Hofstatt auf der Westseite als Hantgemâl (Stammgut), wofür er zu ewigem Eigenthum für sich und seine Nachkommen erhält, was er bisher zu Weidenbach (w. Ampfing) als Eigen innegehabt hat, nur ausgenommen die Kirche, den Kirchhof und eine Baustätte. b) Altorf übergibt dem Erzbischof am gleichen Tage 5 Hubcn zu Ergoltsbach und erhält dafür Volagangesperch (seit 13. Jahrh. Neumarkt a/Rott), wieder ausgenommen die Kirche, den Kirchhof und eine Baustätte.\n",
      "http://www.w3.org/1999/02/22-rdf-syntax-ns#type http://purl.org/capitains/ns/1.0#collection\n",
      "http://purl.org/dc/elements/1.1/contributor Magdalena Hermann-Kowalczyk (Studentische Hilfskraft, Universität Hamburg)\n",
      "http://purl.org/dc/elements/1.1/contributor Morgane Pica (Praktikantin, Ecole nationale des Chartes, Paris, Frankreich)\n",
      "http://purl.org/dc/terms/bibliographicCitation Salzburger Urkundenbuch; Codex A Nummer 100, in: Willibald Hauthaler, Salzburger Urkundenbuch Bd. 2, Salzburg 1910, S. 162-163.\n",
      "http://purl.org/dc/elements/1.1/language lat\n",
      "http://purl.org/dc/elements/1.1/type cts:edition\n",
      "http://purl.org/dc/elements/1.1/publisher Formulae-Litterae-Chartae Projekt\n",
      "http://purl.org/dc/elements/1.1/contributor Matthew Munson (Universität Hamburg)\n",
      "http://purl.org/dc/elements/1.1/source Salzburger Urkundenbuch; Codex A Nummer 100, in: Willibald Hauthaler, Salzburger Urkundenbuch Bd. 2, Salzburg 1910, S. 162-163.\n",
      "https://w3id.org/dts/api#model https://w3id.org/dts/api#resource\n",
      "http://purl.org/dc/elements/1.1/contributor Franziska Quaas (Universität Hamburg)\n",
      "http://purl.org/dc/terms/dateCopyrighted 1910\n",
      "http://purl.org/dc/elements/1.1/contributor Prof. Dr. Philippe Depreux (Universität Hamburg)\n",
      "http://purl.org/capitains/ns/1.0#identifier urn:cts:formulae:salzburg.hauthaler-a0100.lat001\n",
      "http://purl.org/dc/terms/created \n",
      "http://bibliotek-o.org/1.0/ontology/editor Hauthaler, Willibald\n",
      "{}\n"
     ]
    }
   ],
   "source": [
    "from rdflib.namespace import DC, DCTERMS\n",
    "from rdflib import Namespace, Literal, RDFS\n",
    "r = repo.getMetadata('urn:cts:formulae:salzburg.hauthaler-a0100.lat001')\n",
    "for predicate, obj in r.graph.predicate_objects(r.asNode()):\n",
    "    print(predicate, obj)\n",
    "print(r.children)"
   ]
  },
  {
   "cell_type": "code",
   "execution_count": 7,
   "metadata": {},
   "outputs": [
    {
     "name": "stdout",
     "output_type": "stream",
     "text": [
      "capitains\n",
      "<dc:contributor >Prof. Dr. Philippe Depreux (Universität Hamburg)</dc:contributor>\n",
      "<dct:bibliographicCitation >Salzburger Urkundenbuch; Codex A Nummer 100, in: Willibald Hauthaler, Salzburger Urkundenbuch Bd. 2, Salzburg 1910, S. 162-163.</dct:bibliographicCitation>\n",
      "<dts:model >https://w3id.org/dts/api#resource</dts:model>\n",
      "<dc:language >lat</dc:language>\n",
      "<dc:contributor >Franziska Quaas (Universität Hamburg)</dc:contributor>\n",
      "<dct:abstract xml:lang=\"deu\"></dct:abstract>\n",
      "<rdf:type >http://purl.org/capitains/ns/1.0#collection</rdf:type>\n",
      "<dct:dateCopyrighted rdf:type=\"http://www.w3.org/2001/XMLSchema#integer\">1910</dct:dateCopyrighted>\n",
      "<cpt:identifier >urn:cts:formulae:salzburg.hauthaler-a0100.lat001</cpt:identifier>\n",
      "<dc:title xml:lang=\"deu\">Salzburger Urkundenbuch (Ed. Hauthaler); Codex A Nummer 100</dc:title>\n",
      "<dc:source >Salzburger Urkundenbuch; Codex A Nummer 100, in: Willibald Hauthaler, Salzburger Urkundenbuch Bd. 2, Salzburg 1910, S. 162-163.</dc:source>\n",
      "<dc:description xml:lang=\"deu\">a) Der Edle Vodalhard (Odalhard) übergibt dem Erzbischof 7 Huben am Ergoltsbach (Zufluss der kleinen Laber n. Landshut) mit Vorbehalt von 3 Joch in jeder Zelch und einer Hofstatt auf der Westseite als Hantgemâl (Stammgut), wofür er zu ewigem Eigenthum für sich und seine Nachkommen erhält, was er bisher zu Weidenbach (w. Ampfing) als Eigen innegehabt hat, nur ausgenommen die Kirche, den Kirchhof und eine Baustätte. b) Altorf übergibt dem Erzbischof am gleichen Tage 5 Hubcn zu Ergoltsbach und erhält dafür Volagangesperch (seit 13. Jahrh. Neumarkt a/Rott), wieder ausgenommen die Kirche, den Kirchhof und eine Baustätte.</dc:description>\n",
      "<dc:contributor >Matthew Munson (Universität Hamburg)</dc:contributor>\n",
      "<dc:contributor >Magdalena Hermann-Kowalczyk (Studentische Hilfskraft, Universität Hamburg)</dc:contributor>\n",
      "<dc:publisher xml:lang=\"mul\">Formulae-Litterae-Chartae Projekt</dc:publisher>\n",
      "<dct:created ></dct:created>\n",
      "<cpt:parent >urn:cts:formulae:salzburg.hauthaler-a0100</cpt:parent>\n",
      "<dc:format >application/tei+xml</dc:format>\n",
      "<dc:type >cts:edition</dc:type>\n",
      "<dc:contributor >Morgane Pica (Praktikantin, Ecole nationale des Chartes, Paris, Frankreich)</dc:contributor>\n",
      "<bib:editor >Hauthaler, Willibald</bib:editor>\n",
      "cts\n",
      "None\n"
     ]
    }
   ],
   "source": [
    "node = repo.getTextualNode('urn:cts:formulae:salzburg.hauthaler-a0100.lat001', metadata=True)\n",
    "print('capitains')\n",
    "print(str(node.metadata.__export__(output=Mimetypes.XML.CapiTainS.CTS)))\n",
    "# node.metadata.add(Namespace('http://bibliotek-o.org/1.0/ontology').term('editor'), 'Ernst Friedrich Johann Dronke')\n",
    "print('cts')\n",
    "print(str(node.metadata.__export__(output=Mimetypes.XML.CTS)))"
   ]
  },
  {
   "cell_type": "code",
   "execution_count": 8,
   "metadata": {
    "scrolled": false
   },
   "outputs": [
    {
     "name": "stdout",
     "output_type": "stream",
     "text": [
      "{'@context': {'xml': rdflib.term.URIRef('http://www.w3.org/XML/1998/namespace'), 'rdf': rdflib.term.URIRef('http://www.w3.org/1999/02/22-rdf-syntax-ns#'), 'rdfs': rdflib.term.URIRef('http://www.w3.org/2000/01/rdf-schema#'), 'xsd': rdflib.term.URIRef('http://www.w3.org/2001/XMLSchema#'), '': rdflib.term.URIRef('http://chs.harvard.edu/xmlns/cts/'), 'dts': rdflib.term.URIRef('https://w3id.org/dts/api#'), 'tei': rdflib.term.URIRef('http://www.tei-c.org/ns/1.0/'), 'skos': rdflib.term.URIRef('http://www.w3.org/2004/02/skos/core#'), 'cpt': rdflib.term.URIRef('http://purl.org/capitains/ns/1.0#'), 'dc': rdflib.term.URIRef('http://purl.org/dc/elements/1.1/'), 'dct': rdflib.term.URIRef('http://purl.org/dc/terms/'), 'bib': rdflib.term.URIRef('http://bibliotek-o.org/1.0/ontology/'), '@vocab': 'https://www.w3.org/ns/hydra/core#'}, 'cpt:identifier': [{'@value': 'urn:cts:formulae:passau.heuwieser0073', '@lang': None}], 'dc:title': [{'@value': 'Die Traditionen des Hochstifts Passau (Ed. Heuwieser) Nr. 73', '@lang': 'deu'}], 'rdf:type': [{'@value': 'http://purl.org/capitains/ns/1.0#collection', '@lang': None}], 'dc:type': [{'@value': 'cts:work', '@lang': None}], 'cpt:parent': [{'@value': 'urn:cts:formulae:passau', '@lang': None}], 'dts:model': [{'@value': 'https://w3id.org/dts/api#collection', '@lang': None}], 'cpt:children': [{'@value': 'urn:cts:formulae:passau.heuwieser0073.lat002', '@lang': 'lat', '@object': XmlCapitainsReadableMetadata(urn:cts:formulae:passau.heuwieser0073.lat002)#139654978974272}, {'@value': 'urn:cts:formulae:passau.heuwieser0073.lat004', '@lang': 'lat', '@object': XmlCapitainsReadableMetadata(urn:cts:formulae:passau.heuwieser0073.lat004)#139654978974832}, {'@value': 'urn:cts:formulae:passau.heuwieser0073.lat003', '@lang': 'lat', '@object': XmlCapitainsReadableMetadata(urn:cts:formulae:passau.heuwieser0073.lat003)#139654978975112}, {'@value': 'urn:cts:formulae:passau.heuwieser0073.lat001', '@lang': 'lat', '@object': XmlCapitainsReadableMetadata(urn:cts:formulae:passau.heuwieser0073.lat001)#139654978975224}, {'@value': 'urn:cts:formulae:passau.heuwieser0073.lat005', '@lang': 'lat', '@object': XmlCapitainsReadableMetadata(urn:cts:formulae:passau.heuwieser0073.lat005)#139654978975336}]}\n"
     ]
    },
    {
     "data": {
      "text/plain": [
       "['urn:cts:formulae:passau.heuwieser0073.lat002']"
      ]
     },
     "execution_count": 8,
     "metadata": {},
     "output_type": "execute_result"
    }
   ],
   "source": [
    "from lxml import etree\n",
    "metadata = repo.getMetadata('urn:cts:formulae:passau.heuwieser0073')\n",
    "print(metadata.export(output=Mimetypes.JSON.LD))\n",
    "xml = metadata.export(output=Mimetypes.PYTHON.ETREE, recursion_depth=5)\n",
    "xml.xpath('//cpt:collection/cpt:identifier[text()=\"urn:cts:formulae:passau.heuwieser0073.lat002\"]', namespaces=XPATH_NAMESPACES)"
   ]
  },
  {
   "cell_type": "code",
   "execution_count": 9,
   "metadata": {
    "scrolled": false
   },
   "outputs": [
    {
     "name": "stdout",
     "output_type": "stream",
     "text": [
      "[XmlCapitainsCollectionMetadata(urn:cts:formulae:passau)#139654978858792, XmlCapitainsCollectionMetadata(a:different.identifier)#139654978559112]\n"
     ]
    }
   ],
   "source": [
    "# print(repo.getMetadata().export(output=Mimetypes.XML.GUIDELINES3, recursion_depth=5))\n",
    "print(repo.getMetadata('urn:cts:formulae:passau.heuwieser0083').parent)"
   ]
  },
  {
   "cell_type": "code",
   "execution_count": 10,
   "metadata": {
    "scrolled": false
   },
   "outputs": [
    {
     "name": "stdout",
     "output_type": "stream",
     "text": [
      "<class 'MyCapytain.resources.collections.capitains.XmlCapitainsCollectionMetadata'>\n",
      "<cpt:collection path=\"None\" xmlns:dts=\"https://w3id.org/dts/api#\" xmlns:dc=\"http://purl.org/dc/elements/1.1/\" xmlns:cpt=\"http://purl.org/capitains/ns/1.0#\" xmlns:dct=\"http://purl.org/dc/terms/\" xmlns:rdf=\"http://www.w3.org/1999/02/22-rdf-syntax-ns#\" xmlns:bib=\"http://bibliotek-o.org/1.0/ontology/\">\n",
      "<cpt:identifier>defaultTic</cpt:identifier>\n",
      "<cpt:structured-metadata>\n",
      "<rdf:type>http://purl.org/capitains/ns/1.0#collection</rdf:type>\n",
      "</cpt:structured-metadata>\n",
      "</cpt:collection>\n",
      "<MyCapytain.resolvers.capitains.local.XmlCapitainsLocalResolver object at 0x7f04041bb320> \n",
      "\n"
     ]
    }
   ],
   "source": [
    "m = repo.getMetadata()\n",
    "print(type(m))\n",
    "print(m.export(output=Mimetypes.XML.GUIDELINES3))\n",
    "print(repo, '\\n')"
   ]
  },
  {
   "cell_type": "code",
   "execution_count": 11,
   "metadata": {},
   "outputs": [
    {
     "name": "stdout",
     "output_type": "stream",
     "text": [
      "[{'@value': 'urn:cts:formulae:passau.heuwieser0073.lat001_as_com', '@lang': None}, {'@value': 'urn:cts:formulae:passau.heuwieser0073.lat005_as_trans', '@lang': None}, {'@value': 'urn:cts:formulae:fulda_dronke.dronke0004a', '@lang': None}, {'@value': 'urn:cts:formulae:passau.heuwieser0083', '@lang': None}, {'@value': 'urn:cts:formulae:passau', '@lang': None}]\n",
      "2\n"
     ]
    }
   ],
   "source": [
    "print([{'@value': k, '@lang': None} for k in repo.getMetadata('a:different.identifier').children])\n",
    "print(len(repo.getMetadata('urn:cts:formulae:passau').children))"
   ]
  },
  {
   "cell_type": "code",
   "execution_count": 12,
   "metadata": {},
   "outputs": [],
   "source": [
    "with open('../tests/testing_data/guidelines_v3/getCapabilities.xml') as f:\n",
    "    TI, children = XmlCapitainsCollectionMetadata.parse(resource=f, _with_children=True, recursive=True)"
   ]
  },
  {
   "cell_type": "code",
   "execution_count": 13,
   "metadata": {},
   "outputs": [
    {
     "name": "stdout",
     "output_type": "stream",
     "text": [
      "http://purl.org/dc/terms/isReferencedBy urn:cts:formulae:andecavensis.form030.lat001%ante illo <span class='elex-word'>abbate</span> uel reliquis,%fuit ipsius <span class='elex-word'>abbate</span>, ut dum None\n",
      "http://purl.org/dc/terms/created 2019-05-07 None\n",
      "http://purl.org/dc/terms/isReferencedBy urn:cts:formulae:andecavensis.form027.lat001%patri illo <span class='elex-word'>abbate</span> ego illi None\n",
      "http://purl.org/dc/terms/isReferencedBy urn:cts:formulae:andecavensis.form047.lat001%uir illo <span class='elex-word'>abbati</span> uel reliquis None\n",
      "http://purl.org/dc/terms/bibliographicCitation Lößlein, Horst, \"Abbas, abbatissa\", in: Formulae-Litterae-Chartae. Neuedition der frühmittelalterlichen Formulae, Hamburg (2019-05-07), [URL: https://werkstatt.formulae.uni-hamburg.de/texts/urn:cts:formulae:elexicon.abbas.deu001/passage/all] None\n",
      "http://purl.org/dc/terms/isReferencedBy urn:cts:formulae:andecavensis.form010.lat001%uir illo <span class='elex-word'>abbate</span> uel reliquis%fuit ipsius <span class='elex-word'>abbati</span> uel quibus None\n",
      "http://purl.org/dc/elements/1.1/type cts:edition None\n",
      "http://purl.org/capitains/ns/1.0#parent urn:cts:formulae:elexicon.abbas None\n",
      "http://purl.org/dc/elements/1.1/title Abbas, abbatissa (deu) deu\n",
      "http://purl.org/dc/elements/1.1/publisher Formulae-Litterae-Chartae. Neuedition der frühmittelalterlichen Formulae, Hamburg mul\n",
      "http://purl.org/dc/elements/1.1/language deu None\n",
      "http://purl.org/dc/elements/1.1/format application/tei+xml None\n",
      "https://w3id.org/dts/api#model https://w3id.org/dts/api#resource None\n",
      "http://www.w3.org/1999/02/22-rdf-syntax-ns#type http://purl.org/capitains/ns/1.0#collection None\n",
      "http://purl.org/dc/terms/isReferencedBy urn:cts:formulae:andecavensis.form007.lat001%patri illo <span class='elex-word'>abbati</span> uel omnis None\n",
      "http://purl.org/dc/terms/references urn:cts:formulae:passau.heuwieser0073.lat001 None\n",
      "http://purl.org/dc/terms/isReferencedBy urn:cts:formulae:andecavensis.form046.lat001%uir illo <span class='elex-word'>abbati</span>, propria pecunia None\n",
      "http://purl.org/capitains/ns/1.0#identifier urn:cts:formulae:elexicon.abbas.deu001 None\n",
      "http://purl.org/dc/terms/isReferencedBy urn:cts:formulae:andecavensis.form029.lat001%uir illi <span class='elex-word'>abbate</span> interpellauerunt hominem%ab ipso <span class='elex-word'>abbate</span> uel qui None\n",
      "http://purl.org/dc/elements/1.1/creator Horst Lößlein None\n"
     ]
    }
   ],
   "source": [
    "for p, o in TI.graph.predicate_objects(TI['urn:cts:formulae:elexicon.abbas.deu001'].asNode()):\n",
    "    print(p, o, getattr(o, 'language', None))"
   ]
  },
  {
   "cell_type": "code",
   "execution_count": 14,
   "metadata": {},
   "outputs": [
    {
     "name": "stdout",
     "output_type": "stream",
     "text": [
      "[rdflib.term.URIRef('urn:cts:formulae:fulda_dronke'), rdflib.term.URIRef('a:different.identifier')]\n"
     ]
    }
   ],
   "source": [
    "from rdflib import URIRef\n",
    "text = TI['urn:cts:formulae:fulda_dronke.dronke0004a']\n",
    "print(list(text.graph.objects(text.asNode(), RDF_NAMESPACES.CAPITAINS.parent)))"
   ]
  },
  {
   "cell_type": "code",
   "execution_count": 15,
   "metadata": {},
   "outputs": [
    {
     "name": "stdout",
     "output_type": "stream",
     "text": [
      "<cpt:members>SOMETHING</cpt:members>\n"
     ]
    }
   ],
   "source": [
    "x = \"<cpt:members>{tg}</cpt:members>\"\n",
    "y = x.format(tg='SOMETHING')\n",
    "print(y)"
   ]
  },
  {
   "cell_type": "code",
   "execution_count": 18,
   "metadata": {},
   "outputs": [
    {
     "name": "stdout",
     "output_type": "stream",
     "text": [
      "49.6 ms ± 1.58 ms per loop (mean ± std. dev. of 7 runs, 50 loops each)\n"
     ]
    }
   ],
   "source": [
    "%timeit -n 50 XmlCapitainsLocalResolver(['../tests/testing_data/guidelines_v3'])"
   ]
  },
  {
   "cell_type": "code",
   "execution_count": 17,
   "metadata": {},
   "outputs": [],
   "source": [
    "d = {x: x for x in range(50)}\n",
    "y = 70"
   ]
  },
  {
   "cell_type": "code",
   "execution_count": null,
   "metadata": {},
   "outputs": [],
   "source": []
  },
  {
   "cell_type": "code",
   "execution_count": null,
   "metadata": {},
   "outputs": [],
   "source": []
  }
 ],
 "metadata": {
  "kernelspec": {
   "display_name": "MyCapytain",
   "language": "python",
   "name": "mycapytain"
  },
  "language_info": {
   "codemirror_mode": {
    "name": "ipython",
    "version": 3
   },
   "file_extension": ".py",
   "mimetype": "text/x-python",
   "name": "python",
   "nbconvert_exporter": "python",
   "pygments_lexer": "ipython3",
   "version": "3.6.8"
  }
 },
 "nbformat": 4,
 "nbformat_minor": 2
}
